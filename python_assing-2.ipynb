{
 "cells": [
  {
   "cell_type": "code",
   "execution_count": 2,
   "metadata": {},
   "outputs": [
    {
     "name": "stdout",
     "output_type": "stream",
     "text": [
      "    cars  passings\n",
      "0    BMW         3\n",
      "1  Volvo         7\n",
      "2   Ford         2\n"
     ]
    }
   ],
   "source": [
    "import pandas\n",
    "\n",
    "mydataset = {\n",
    "  'cars': [\"BMW\", \"Volvo\", \"Ford\"],\n",
    "  'passings': [3, 7, 2]\n",
    "}\n",
    "\n",
    "myvar = pandas.DataFrame(mydataset)\n",
    "\n",
    "print(myvar)\n"
   ]
  },
  {
   "cell_type": "code",
   "execution_count": 2,
   "metadata": {},
   "outputs": [
    {
     "name": "stdout",
     "output_type": "stream",
     "text": [
      "This is parent class.\n",
      "This is child class.\n"
     ]
    }
   ],
   "source": [
    "#inheritance and its types single inheritance \n",
    "class Parent:\n",
    "    def func1(self):\n",
    "        print(\"This is parent class.\")\n",
    "class Child(Parent):\n",
    "    def func2(self):\n",
    "        print(\"This is child class.\")\n",
    "object = Child()\n",
    "object.func1()\n",
    "object.func2()  \n"
   ]
  },
  {
   "cell_type": "code",
   "execution_count": null,
   "metadata": {},
   "outputs": [],
   "source": [
    "#multiple inheritance \n",
    "class Mother:\n",
    "    mothername = \"\"\n",
    " \n",
    "    def mother(self):\n",
    "        print(self.mothername)\n",
    "class Father:\n",
    "    fathername = \"\"\n",
    " \n",
    "    def father(self):\n",
    "        print(self.fathername)\n",
    "class Son(Mother, Father):\n",
    "    def parents(self):\n",
    "        print(\"Father :\", self.fathername)\n",
    "        print(\"Mother :\", self.mothername)\n",
    "s1 = Son()\n",
    "s1.fathername = \"kesavan\"\n",
    "s1.mothername = \"sivashankari\"\n",
    "s1.parents()"
   ]
  },
  {
   "cell_type": "code",
   "execution_count": 6,
   "metadata": {},
   "outputs": [
    {
     "name": "stdout",
     "output_type": "stream",
     "text": [
      "abc\n",
      "Grandfather name : abc\n",
      "Father name : def\n",
      "Son name : ghi\n"
     ]
    }
   ],
   "source": [
    "#multilevel inheritance\n",
    "\n",
    "class Grandfather:\n",
    " \n",
    "    def __init__(self, grandfathername):\n",
    "        self.grandfathername = grandfathername \n",
    "class Father(Grandfather):\n",
    "    def __init__(self, fathername, grandfathername):\n",
    "        self.fathername = fathername\n",
    "        Grandfather.__init__(self, grandfathername)\n",
    "class Son(Father):\n",
    "    def __init__(self, sonname, fathername, grandfathername):\n",
    "        self.sonname = sonname\n",
    "        Father.__init__(self, fathername, grandfathername)\n",
    " \n",
    "    def print_name(self):\n",
    "        print('Grandfather name :', self.grandfathername)\n",
    "        print(\"Father name :\", self.fathername)\n",
    "        print(\"Son name :\", self.sonname)\n",
    " \n",
    "s1 = Son('ghi', 'def', 'abc')\n",
    "print(s1.grandfathername)\n",
    "s1.print_name()\n",
    " "
   ]
  },
  {
   "cell_type": "code",
   "execution_count": 8,
   "metadata": {},
   "outputs": [
    {
     "name": "stdout",
     "output_type": "stream",
     "text": [
      "This function is parent class.\n",
      "This function is child 1.\n",
      "This function is parent class.\n",
      "This function is child 2.\n"
     ]
    }
   ],
   "source": [
    "#Hierarchical inheritance\n",
    "class Parent:\n",
    "    def func1(self):\n",
    "        print(\"This function is parent class.\") \n",
    "class Child1(Parent):\n",
    "    def func2(self):\n",
    "        print(\"This function is child 1.\")\n",
    "class Child2(Parent):\n",
    "    def func3(self):\n",
    "        print(\"This function is child 2.\")\n",
    "object1 = Child1()\n",
    "object2 = Child2()\n",
    "object1.func1()\n",
    "object1.func2()\n",
    "object2.func1()\n",
    "object2.func3()"
   ]
  },
  {
   "cell_type": "code",
   "execution_count": 10,
   "metadata": {},
   "outputs": [
    {
     "name": "stdout",
     "output_type": "stream",
     "text": [
      "This function is school.\n",
      "This function is student 1. \n"
     ]
    }
   ],
   "source": [
    "# hybrid inheritance\n",
    " \n",
    " \n",
    "class School:\n",
    "    def func1(self):\n",
    "        print(\"This function is school.\")\n",
    " \n",
    " \n",
    "class Student1(School):\n",
    "    def func2(self):\n",
    "        print(\"This function is student 1. \")\n",
    " \n",
    " \n",
    "class Student2(School):\n",
    "    def func3(self):\n",
    "        print(\"This function is student 2.\")\n",
    " \n",
    " \n",
    "class Student3(Student1, School):\n",
    "    def func4(self):\n",
    "        print(\"This function is student 3.\")\n",
    "object = Student3()\n",
    "object.func1()\n",
    "object.func2()"
   ]
  },
  {
   "cell_type": "code",
   "execution_count": 11,
   "metadata": {},
   "outputs": [
    {
     "name": "stdout",
     "output_type": "stream",
     "text": [
      "Can't divide with zero. Provide different number\n"
     ]
    }
   ],
   "source": [
    "# 6 types of error handling zero divison error \n",
    "try:\n",
    "    a = 10\n",
    "    b = 0\n",
    "    c = a/b\n",
    "    print(\"The answer of a divide by b:\", c)\n",
    "except:\n",
    "    print(\"Can't divide with zero. Provide different number\")\n"
   ]
  },
  {
   "cell_type": "code",
   "execution_count": 14,
   "metadata": {},
   "outputs": [
    {
     "name": "stdout",
     "output_type": "stream",
     "text": [
      "name error is occured\n"
     ]
    }
   ],
   "source": [
    "#name error\n",
    "try:\n",
    "    print(y)\n",
    "except:\n",
    "    print('name error is occured')\n"
   ]
  },
  {
   "cell_type": "code",
   "execution_count": 15,
   "metadata": {},
   "outputs": [
    {
     "name": "stdout",
     "output_type": "stream",
     "text": [
      "file error has occured\n"
     ]
    }
   ],
   "source": [
    "#file error\n",
    "try: \n",
    "   fp = open(\"test.txt\", \"r\")\n",
    "   if fp:\n",
    "       print(\"file is opened successfully\")\n",
    "except:\n",
    "    print('file error has occured')\n"
   ]
  },
  {
   "cell_type": "code",
   "execution_count": 20,
   "metadata": {},
   "outputs": [
    {
     "name": "stdout",
     "output_type": "stream",
     "text": [
      "a\n",
      "Learn Python \n"
     ]
    }
   ],
   "source": [
    "#indentation error\n",
    "try:\n",
    " print(\"a\")\n",
    " print(\"Learn Python \")\n",
    "except:\n",
    "    print('indentation error has occured')"
   ]
  },
  {
   "cell_type": "code",
   "execution_count": 21,
   "metadata": {},
   "outputs": [
    {
     "name": "stdout",
     "output_type": "stream",
     "text": [
      "55\n"
     ]
    }
   ],
   "source": [
    "#aggregate functions using numpy \n",
    "import numpy as np\n",
    "arr=np.array([[1,2,3,4,5],[6,7,8,9,10]])\n",
    "x=arr.sum()\n",
    "print(x)\n"
   ]
  },
  {
   "cell_type": "code",
   "execution_count": 26,
   "metadata": {},
   "outputs": [
    {
     "name": "stdout",
     "output_type": "stream",
     "text": [
      "10\n"
     ]
    }
   ],
   "source": [
    "import numpy as np \n",
    "arr=np.array([[1,2,3,4,5],[6,7,8,9,10]])\n",
    "x=arr.max()\n",
    "print(x)"
   ]
  },
  {
   "cell_type": "code",
   "execution_count": 30,
   "metadata": {},
   "outputs": [
    {
     "name": "stdout",
     "output_type": "stream",
     "text": [
      "5.5\n"
     ]
    }
   ],
   "source": [
    "import numpy as np \n",
    "arr=np.array([[1,2,3,4,5],[6,7,8,9,10]])\n",
    "x=np.average(arr)\n",
    "print(x)"
   ]
  },
  {
   "cell_type": "code",
   "execution_count": 31,
   "metadata": {},
   "outputs": [
    {
     "name": "stdout",
     "output_type": "stream",
     "text": [
      "5.5\n"
     ]
    }
   ],
   "source": [
    "import numpy as np \n",
    "arr=np.array([[1,2,3,4,5],[6,7,8,9,10]])\n",
    "x=arr.mean()\n",
    "print(x)"
   ]
  },
  {
   "cell_type": "code",
   "execution_count": 32,
   "metadata": {},
   "outputs": [
    {
     "name": "stdout",
     "output_type": "stream",
     "text": [
      "9\n"
     ]
    }
   ],
   "source": [
    "import numpy as np\n",
    "arr=np.array([[1,2,3,4,5],[6,7,8,9,10]])\n",
    "x=arr.argmax()\n",
    "print(x)"
   ]
  },
  {
   "cell_type": "code",
   "execution_count": 33,
   "metadata": {},
   "outputs": [
    {
     "name": "stdout",
     "output_type": "stream",
     "text": [
      "0\n"
     ]
    }
   ],
   "source": [
    "import numpy as np\n",
    "arr=np.array([[1,2,3,4,5],[6,7,8,9,10]])\n",
    "x=arr.argmin()\n",
    "print(x)\n",
    "\n"
   ]
  },
  {
   "cell_type": "code",
   "execution_count": 34,
   "metadata": {},
   "outputs": [
    {
     "name": "stdout",
     "output_type": "stream",
     "text": [
      "8.25\n"
     ]
    }
   ],
   "source": [
    "import numpy as np \n",
    "arr=np.array([[1,2,3,4,5],[6,7,8,9,10]])\n",
    "x=arr.var()\n",
    "print(x)"
   ]
  },
  {
   "cell_type": "code",
   "execution_count": 35,
   "metadata": {},
   "outputs": [
    {
     "ename": "TypeError",
     "evalue": "Only integers are allowed",
     "output_type": "error",
     "traceback": [
      "\u001b[0;31m---------------------------------------------------------------------------\u001b[0m",
      "\u001b[0;31mTypeError\u001b[0m                                 Traceback (most recent call last)",
      "\u001b[1;32m/Users/abilashkesavan/html projects /python_assing-2.ipynb Cell 18\u001b[0m in \u001b[0;36m<cell line: 4>\u001b[0;34m()\u001b[0m\n\u001b[1;32m      <a href='vscode-notebook-cell:/Users/abilashkesavan/html%20projects%20/python_assing-2.ipynb#ch0000019?line=1'>2</a>\u001b[0m x \u001b[39m=\u001b[39m \u001b[39m\"\u001b[39m\u001b[39mhello\u001b[39m\u001b[39m\"\u001b[39m\n\u001b[1;32m      <a href='vscode-notebook-cell:/Users/abilashkesavan/html%20projects%20/python_assing-2.ipynb#ch0000019?line=3'>4</a>\u001b[0m \u001b[39mif\u001b[39;00m \u001b[39mnot\u001b[39;00m \u001b[39mtype\u001b[39m(x) \u001b[39mis\u001b[39;00m \u001b[39mint\u001b[39m:\n\u001b[0;32m----> <a href='vscode-notebook-cell:/Users/abilashkesavan/html%20projects%20/python_assing-2.ipynb#ch0000019?line=4'>5</a>\u001b[0m   \u001b[39mraise\u001b[39;00m \u001b[39mTypeError\u001b[39;00m(\u001b[39m\"\u001b[39m\u001b[39mOnly integers are allowed\u001b[39m\u001b[39m\"\u001b[39m)\n",
      "\u001b[0;31mTypeError\u001b[0m: Only integers are allowed"
     ]
    }
   ],
   "source": [
    "#error handling and raiseing error \n",
    "x = \"hello\" \n",
    "if not type(x) is int:\n",
    "  raise TypeError(\"Only integers are allowed\")"
   ]
  },
  {
   "cell_type": "code",
   "execution_count": 36,
   "metadata": {},
   "outputs": [
    {
     "ename": "Exception",
     "evalue": "Sorry, no numbers below zero",
     "output_type": "error",
     "traceback": [
      "\u001b[0;31m---------------------------------------------------------------------------\u001b[0m",
      "\u001b[0;31mException\u001b[0m                                 Traceback (most recent call last)",
      "\u001b[1;32m/Users/abilashkesavan/html projects /python_assing-2.ipynb Cell 19\u001b[0m in \u001b[0;36m<cell line: 3>\u001b[0;34m()\u001b[0m\n\u001b[1;32m      <a href='vscode-notebook-cell:/Users/abilashkesavan/html%20projects%20/python_assing-2.ipynb#ch0000020?line=0'>1</a>\u001b[0m x \u001b[39m=\u001b[39m \u001b[39m-\u001b[39m\u001b[39m1\u001b[39m\n\u001b[1;32m      <a href='vscode-notebook-cell:/Users/abilashkesavan/html%20projects%20/python_assing-2.ipynb#ch0000020?line=2'>3</a>\u001b[0m \u001b[39mif\u001b[39;00m x \u001b[39m<\u001b[39m \u001b[39m0\u001b[39m:\n\u001b[0;32m----> <a href='vscode-notebook-cell:/Users/abilashkesavan/html%20projects%20/python_assing-2.ipynb#ch0000020?line=3'>4</a>\u001b[0m   \u001b[39mraise\u001b[39;00m \u001b[39mException\u001b[39;00m(\u001b[39m\"\u001b[39m\u001b[39mSorry, no numbers below zero\u001b[39m\u001b[39m\"\u001b[39m)\n",
      "\u001b[0;31mException\u001b[0m: Sorry, no numbers below zero"
     ]
    }
   ],
   "source": [
    "#raise error and exception\n",
    "x = -1\n",
    "\n",
    "if x < 0:\n",
    "  raise Exception(\"Sorry, no numbers below zero\")"
   ]
  },
  {
   "cell_type": "code",
   "execution_count": 47,
   "metadata": {},
   "outputs": [
    {
     "name": "stdout",
     "output_type": "stream",
     "text": [
      "Name:  RJ\n",
      "Age:  20\n"
     ]
    }
   ],
   "source": [
    "#access modifiers in python\n",
    "\n",
    "class a:\n",
    "\tdef __init__(self, name, age):\n",
    "\t\tself.Name = name\n",
    "\t\tself.Age = age\t\n",
    "\tdef displayAge(self):\n",
    "\t\tprint(\"Age: \", self.Age)\n",
    "\n",
    "\n",
    "obj = a(\"RJ\", 20)\n",
    "print(\"Name: \", obj.Name)\n",
    "obj.displayAge()\n",
    "\n",
    "   "
   ]
  },
  {
   "cell_type": "code",
   "execution_count": 50,
   "metadata": {},
   "outputs": [
    {
     "name": "stdout",
     "output_type": "stream",
     "text": [
      "Name:  ak\n",
      "Roll:  1336256\n",
      "Branch:  ai\n"
     ]
    }
   ],
   "source": [
    "#private access modifiers\n",
    "class c:\n",
    "\t__name = None\n",
    "\t__roll = None\n",
    "\t__branch = None\n",
    "\tdef __init__(self, name, roll, branch):\n",
    "\t\tself.__name = name\n",
    "\t\tself.__roll = roll\n",
    "\t\tself.__branch = branch\n",
    "\tdef __displayDetails(self):\n",
    "\t\tprint(\"Name: \", self.__name)\n",
    "\t\tprint(\"Roll: \", self.__roll)\n",
    "\t\tprint(\"Branch: \", self.__branch)\n",
    "\tdef accessPrivateFunction(self):\n",
    "\t\tself.__displayDetails()\n",
    "obj = c(\"ak\", 1336256, \"ai\")\n",
    "obj.accessPrivateFunction()\n"
   ]
  },
  {
   "cell_type": "code",
   "execution_count": 49,
   "metadata": {},
   "outputs": [
    {
     "name": "stdout",
     "output_type": "stream",
     "text": [
      "Name:  gopi\n",
      "Roll:  1706256\n",
      "Branch:  ai&ds\n"
     ]
    }
   ],
   "source": [
    "#procted access modifiers \n",
    "class Student:\n",
    "\t_name = None\n",
    "\t_roll = None\n",
    "\t_branch = None\n",
    "\tdef __init__(self, name, roll, branch):\n",
    "\t\tself._name = name\n",
    "\t\tself._roll = roll\n",
    "\t\tself._branch = branch\n",
    "\tdef _displayRollAndBranch(self):\n",
    "\t\tprint(\"Roll: \", self._roll)\n",
    "\t\tprint(\"Branch: \", self._branch)\n",
    "class b(Student):\n",
    "\tdef __init__(self, name, roll, branch):\n",
    "\t\t\t\tStudent.__init__(self, name, roll, branch)\n",
    "\tdef displayDetails(self):\n",
    "\t\t\t\tprint(\"Name: \", self._name)\n",
    "\t\t\t\tself._displayRollAndBranch()\n",
    "obj = b(\"gopi\", 1706256, \"ai&ds\")\n",
    "obj.displayDetails()\n",
    "\n"
   ]
  },
  {
   "cell_type": "code",
   "execution_count": 51,
   "metadata": {},
   "outputs": [
    {
     "name": "stdout",
     "output_type": "stream",
     "text": [
      "Original Array =  [0 2 3 0 1 6 5 2]\n",
      "\n",
      "Greater Than 0 =  [False  True  True False  True  True  True  True]\n",
      "\n",
      "Greater Than 1 =  [False  True  True False False  True  True  True]\n",
      "\n",
      "Greater Than 2 =  [False False  True False False  True  True False]\n"
     ]
    }
   ],
   "source": [
    "#comparison using numpy\n",
    "# Python array greater\n",
    " \n",
    "import numpy as np\n",
    "\n",
    "x = np.array([0, 2, 3, 0, 1, 6, 5, 2])\n",
    "print('Original Array = ', x)\n",
    "print('\\nGreater Than 0 = ', np.greater(x, 0))\n",
    "print()\n",
    " \n",
    "print('Greater Than 1 = ', np.greater(x, 1))\n",
    "print()\n",
    " \n",
    "print('Greater Than 2 = ', np.greater(x, 2))"
   ]
  },
  {
   "cell_type": "code",
   "execution_count": 53,
   "metadata": {},
   "outputs": [
    {
     "name": "stdout",
     "output_type": "stream",
     "text": [
      "Original Array =  [0 2 3 0 1 6 5 2]\n",
      "Greater Than or Equal to 4 =  [False False False False False  True  True False]\n"
     ]
    }
   ],
   "source": [
    "#greater than or equal to\n",
    "import numpy as np\n",
    " \n",
    "arr = np.array([0, 2, 3, 0, 1, 6, 5, 2])\n",
    "print('Original Array = ', arr)\n",
    "print('Greater Than or Equal to 4 = ', np.greater_equal(arr, 4))"
   ]
  },
  {
   "cell_type": "code",
   "execution_count": 56,
   "metadata": {},
   "outputs": [
    {
     "name": "stdout",
     "output_type": "stream",
     "text": [
      "Original Array =  [0 2 3 0 1 6 5 2]\n",
      "Greater Than or Equal to 2 =  [ True False False  True  True False False False]\n"
     ]
    }
   ],
   "source": [
    "#lesser than \n",
    "import numpy as np\n",
    "arr = np.array([0, 2, 3, 0, 1, 6, 5, 2])\n",
    "print('Original Array = ', arr)\n",
    "print('Greater Than or Equal to 2 = ', np.less(arr, 2))"
   ]
  },
  {
   "cell_type": "code",
   "execution_count": 55,
   "metadata": {},
   "outputs": [
    {
     "name": "stdout",
     "output_type": "stream",
     "text": [
      "Original Array =  [0 2 3 0 1 6 5 2]\n",
      "Greater Than or Equal to 2 =  [ True  True False  True  True False False  True]\n"
     ]
    }
   ],
   "source": [
    "#lesser than or equal\n",
    "import numpy as np\n",
    " \n",
    "arr = np.array([0, 2, 3, 0, 1, 6, 5, 2])\n",
    "print('Original Array = ', arr)\n",
    "print('Greater Than or Equal to 2 = ', np.less_equal(arr, 2))"
   ]
  }
 ],
 "metadata": {
  "kernelspec": {
   "display_name": "Python 3.9.12 ('base': conda)",
   "language": "python",
   "name": "python3"
  },
  "language_info": {
   "codemirror_mode": {
    "name": "ipython",
    "version": 3
   },
   "file_extension": ".py",
   "mimetype": "text/x-python",
   "name": "python",
   "nbconvert_exporter": "python",
   "pygments_lexer": "ipython3",
   "version": "3.9.12"
  },
  "orig_nbformat": 4,
  "vscode": {
   "interpreter": {
    "hash": "e43edaf78037f569b5af64c5400ead0717492cf089f32ff0654535a3bf9e16a5"
   }
  }
 },
 "nbformat": 4,
 "nbformat_minor": 2
}
